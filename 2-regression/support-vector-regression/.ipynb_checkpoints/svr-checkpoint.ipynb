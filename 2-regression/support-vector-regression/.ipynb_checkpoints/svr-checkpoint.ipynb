{
 "cells": [
  {
   "cell_type": "code",
   "execution_count": 1,
   "id": "d7e6edcb",
   "metadata": {},
   "outputs": [],
   "source": [
    "import numpy as np\n",
    "import pandas as pd\n",
    "\n",
    "# Utilities\n",
    "import sys\n",
    "sys.path.insert(0, '../../utils')\n",
    "import ipynb.fs.full.vector as uvec\n",
    "import ipynb.fs.full.pyplot as uplt"
   ]
  },
  {
   "cell_type": "markdown",
   "id": "f5b81382",
   "metadata": {},
   "source": [
    "### Import dataset"
   ]
  },
  {
   "cell_type": "code",
   "execution_count": 2,
   "id": "ae88e318",
   "metadata": {},
   "outputs": [],
   "source": [
    "dataset = pd.read_csv('position-salaries.csv')\n",
    "X = dataset.iloc[:, 1:-1].values\n",
    "y = dataset.iloc[:, -1].values"
   ]
  },
  {
   "cell_type": "markdown",
   "id": "aab001ee",
   "metadata": {},
   "source": [
    "### Scale variables"
   ]
  },
  {
   "cell_type": "markdown",
   "id": "a5470ed3",
   "metadata": {},
   "source": [
    "Independent & dependent vars have different means, deviations... hence should use separate scalers. \\\n",
    "StandardScaler takes 2-D array/vertical vector as input hence transform dependent var (y)"
   ]
  },
  {
   "cell_type": "code",
   "execution_count": 3,
   "id": "30071686",
   "metadata": {},
   "outputs": [],
   "source": [
    "from sklearn.preprocessing import StandardScaler\n",
    "X_scaler = StandardScaler()\n",
    "y_scaler = StandardScaler()\n",
    "X = X_scaler.fit_transform(X)\n",
    "y = y_scaler.fit_transform(uvec.verticalize(y))"
   ]
  },
  {
   "cell_type": "code",
   "execution_count": 4,
   "id": "9a9732dc",
   "metadata": {},
   "outputs": [
    {
     "name": "stdout",
     "output_type": "stream",
     "text": [
      "[[-1.5666989 ]\n",
      " [-1.21854359]\n",
      " [-0.87038828]\n",
      " [-0.52223297]\n",
      " [-0.17407766]\n",
      " [ 0.17407766]\n",
      " [ 0.52223297]\n",
      " [ 0.87038828]\n",
      " [ 1.21854359]\n",
      " [ 1.5666989 ]]\n"
     ]
    }
   ],
   "source": [
    "print(X)"
   ]
  },
  {
   "cell_type": "code",
   "execution_count": 5,
   "id": "ea674230",
   "metadata": {
    "scrolled": true
   },
   "outputs": [
    {
     "name": "stdout",
     "output_type": "stream",
     "text": [
      "[-0.72004253 -0.70243757 -0.66722767 -0.59680786 -0.49117815 -0.35033854\n",
      " -0.17428902  0.17781001  0.88200808  2.64250325]\n"
     ]
    }
   ],
   "source": [
    "print(np.ravel(y))"
   ]
  },
  {
   "cell_type": "markdown",
   "id": "5cb26aec",
   "metadata": {},
   "source": [
    "### Train Support Vector Regression model"
   ]
  },
  {
   "cell_type": "code",
   "execution_count": 6,
   "id": "04c56aa8",
   "metadata": {
    "scrolled": true
   },
   "outputs": [
    {
     "data": {
      "text/plain": [
       "SVR()"
      ]
     },
     "execution_count": 6,
     "metadata": {},
     "output_type": "execute_result"
    }
   ],
   "source": [
    "from sklearn.svm import SVR\n",
    "model = SVR(kernel = 'rbf')\n",
    "model.fit(X, y.ravel()) # flatten 2-D array y"
   ]
  },
  {
   "cell_type": "markdown",
   "id": "56408f9c",
   "metadata": {},
   "source": [
    "### Predict new results"
   ]
  },
  {
   "cell_type": "markdown",
   "id": "e492e0ac",
   "metadata": {},
   "source": [
    "With a scaled dataset, we have to pay attention to the scales of inputs & outputs (predicts) as well"
   ]
  },
  {
   "cell_type": "code",
   "execution_count": 7,
   "id": "87aa020d",
   "metadata": {},
   "outputs": [
    {
     "name": "stdout",
     "output_type": "stream",
     "text": [
      "[170370.0204065]\n"
     ]
    }
   ],
   "source": [
    "scaled_input = X_scaler.transform([[6.5]])\n",
    "scaled_predict = model.predict(scaled_input)\n",
    "predict = y_scaler.inverse_transform(scaled_predict)\n",
    "print(predict)"
   ]
  },
  {
   "cell_type": "markdown",
   "id": "50d65736",
   "metadata": {},
   "source": [
    "### Visualize the model"
   ]
  },
  {
   "cell_type": "code",
   "execution_count": 8,
   "id": "4313e786",
   "metadata": {},
   "outputs": [
    {
     "ename": "TypeError",
     "evalue": "plot_model() got an unexpected keyword argument 'model'",
     "output_type": "error",
     "traceback": [
      "\u001b[1;31m--------------------------------------------------------------------\u001b[0m",
      "\u001b[1;31mTypeError\u001b[0m                          Traceback (most recent call last)",
      "\u001b[1;32m<ipython-input-8-abefaaddd762>\u001b[0m in \u001b[0;36m<module>\u001b[1;34m\u001b[0m\n\u001b[1;32m----> 1\u001b[1;33m uplt.plot_model(model = model, features = X, results = y, \n\u001b[0m\u001b[0;32m      2\u001b[0m                 \u001b[0mfeature_label\u001b[0m \u001b[1;33m=\u001b[0m \u001b[1;34m'Position level'\u001b[0m\u001b[1;33m,\u001b[0m \u001b[0mresult_label\u001b[0m \u001b[1;33m=\u001b[0m \u001b[1;34m'Salary'\u001b[0m\u001b[1;33m,\u001b[0m\u001b[1;33m\u001b[0m\u001b[1;33m\u001b[0m\u001b[0m\n\u001b[0;32m      3\u001b[0m                 feature_scaler = X_scaler, result_scaler = y_scaler)\n",
      "\u001b[1;31mTypeError\u001b[0m: plot_model() got an unexpected keyword argument 'model'"
     ]
    }
   ],
   "source": [
    "uplt.visualize_model(model = model, features = X, results = y, \n",
    "                feature_label = 'Position level', result_label = 'Salary', \n",
    "                feature_scaler = X_scaler, result_scaler = y_scaler)"
   ]
  }
 ],
 "metadata": {
  "kernelspec": {
   "display_name": "Python 3",
   "language": "python",
   "name": "python3"
  },
  "language_info": {
   "codemirror_mode": {
    "name": "ipython",
    "version": 3
   },
   "file_extension": ".py",
   "mimetype": "text/x-python",
   "name": "python",
   "nbconvert_exporter": "python",
   "pygments_lexer": "ipython3",
   "version": "3.8.8"
  }
 },
 "nbformat": 4,
 "nbformat_minor": 5
}
