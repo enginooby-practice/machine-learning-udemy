{
 "cells": [
  {
   "cell_type": "code",
   "execution_count": 1,
   "id": "1aa1a2ad",
   "metadata": {},
   "outputs": [],
   "source": [
    "import sys\n",
    "import numpy as np\n",
    "import pandas as pd\n",
    "import matplotlib.pyplot as plt\n",
    "\n",
    "sys.path.insert(0, '../../utils')\n",
    "np.set_printoptions(precision = 2)"
   ]
  },
  {
   "cell_type": "markdown",
   "id": "989cb89a",
   "metadata": {},
   "source": [
    "### Preprocess data"
   ]
  },
  {
   "cell_type": "code",
   "execution_count": 3,
   "id": "fd85b637",
   "metadata": {},
   "outputs": [
    {
     "name": "stdout",
     "output_type": "stream",
     "text": [
      "\n",
      "X_train\n",
      " [[1.0 0.0 55493.95 103057.49 214634.81]\n",
      " [0.0 1.0 46014.02 85047.44 205517.64]\n",
      " [1.0 0.0 75328.87 144135.98 134050.07]\n",
      " [0.0 0.0 46426.07 157693.92 210797.67]\n",
      " [1.0 0.0 91749.16 114175.79 294919.57]\n",
      " [1.0 0.0 130298.13 145530.06 323876.68]\n",
      " [1.0 0.0 119943.24 156547.42 256512.92]\n",
      " [0.0 1.0 1000.23 124153.04 1903.93]\n",
      " [0.0 1.0 542.05 51743.15 0.0]\n",
      " [0.0 1.0 65605.48 153032.06 107138.38]\n",
      " [0.0 1.0 114523.61 122616.84 261776.23]\n",
      " [1.0 0.0 61994.48 115641.28 91131.24]\n",
      " [0.0 0.0 63408.86 129219.61 46085.25]\n",
      " [0.0 0.0 78013.11 121597.55 264346.06]\n",
      " [0.0 0.0 23640.93 96189.63 148001.11]\n",
      " [0.0 0.0 76253.86 113867.3 298664.47]\n",
      " [0.0 1.0 15505.73 127382.3 35534.17]\n",
      " [0.0 1.0 120542.52 148718.95 311613.29]\n",
      " [0.0 0.0 91992.39 135495.07 252664.93]\n",
      " [0.0 0.0 64664.71 139553.16 137962.62]\n",
      " [0.0 1.0 131876.9 99814.71 362861.36]\n",
      " [0.0 1.0 94657.16 145077.58 282574.31]\n",
      " [0.0 0.0 28754.33 118546.05 172795.67]\n",
      " [0.0 0.0 0.0 116983.8 45173.06]\n",
      " [0.0 0.0 162597.7 151377.59 443898.53]\n",
      " [1.0 0.0 93863.75 127320.38 249839.44]\n",
      " [0.0 0.0 44069.95 51283.14 197029.42]\n",
      " [0.0 1.0 77044.01 99281.34 140574.81]\n",
      " [0.0 0.0 134615.46 147198.87 127716.82]\n",
      " [1.0 0.0 67532.53 105751.03 304768.73]\n",
      " [1.0 0.0 28663.76 127056.21 201126.82]\n",
      " [0.0 1.0 78389.47 153773.43 299737.29]\n",
      " [0.0 1.0 86419.7 153514.11 0.0]\n",
      " [0.0 0.0 123334.88 108679.17 304981.62]\n",
      " [0.0 0.0 38558.51 82982.09 174999.3]\n",
      " [1.0 0.0 1315.46 115816.21 297114.46]\n",
      " [0.0 1.0 144372.41 118671.85 383199.62]\n",
      " [0.0 1.0 165349.2 136897.8 471784.1]\n",
      " [0.0 0.0 0.0 135426.92 0.0]\n",
      " [0.0 0.0 22177.74 154806.14 28334.72]]\n",
      "\n",
      "X_test\n",
      " [[1.0 0.0 66051.52 182645.56 118148.2]\n",
      " [0.0 0.0 100671.96 91790.61 249744.55]\n",
      " [1.0 0.0 101913.08 110594.11 229160.95]\n",
      " [1.0 0.0 27892.92 84710.77 164470.71]\n",
      " [1.0 0.0 153441.51 101145.55 407934.54]\n",
      " [0.0 1.0 72107.6 127864.55 353183.81]\n",
      " [0.0 1.0 20229.59 65947.93 185265.1]\n",
      " [0.0 1.0 61136.38 152701.92 88218.23]\n",
      " [1.0 0.0 73994.56 122782.75 303319.26]\n",
      " [1.0 0.0 142107.34 91391.77 366168.42]]\n",
      "\n",
      "y_train\n",
      " [ 96778.92  96479.51 105733.54  96712.8  124266.9  155752.6  132602.65\n",
      "  64926.08  35673.41 101004.64 129917.04  99937.59  97427.84 126992.93\n",
      "  71498.49 118474.03  69758.98 152211.77 134307.35 107404.34 156991.12\n",
      " 125370.37  78239.91  14681.4  191792.06 141585.52  89949.14 108552.04\n",
      " 156122.51 108733.99  90708.19 111313.02 122776.86 149759.96  81005.76\n",
      "  49490.75 182901.99 192261.83  42559.73  65200.33]\n",
      "\n",
      "y_test\n",
      " [103282.38 144259.4  146121.95  77798.83 191050.39 105008.31  81229.06\n",
      "  97483.56 110352.25 166187.94]\n"
     ]
    }
   ],
   "source": [
    "from ipynb.fs.defs.data_preprocessing import preprocess_dataset\n",
    "\n",
    "X_train, X_test, y_train, y_test = preprocess_dataset(\n",
    "    dataset_url = '50_Startups.csv', \n",
    "    nominal_feature_cols = [3], \n",
    "    debug = True\n",
    ")"
   ]
  },
  {
   "cell_type": "markdown",
   "id": "a2ea9537",
   "metadata": {},
   "source": [
    "### Train the Multiple Linear Regression model on the Training set"
   ]
  },
  {
   "cell_type": "code",
   "execution_count": null,
   "id": "5b6df73c",
   "metadata": {},
   "outputs": [],
   "source": [
    "from sklearn.linear_model import LinearRegression\n",
    "model = LinearRegression()\n",
    "model.fit(X_train, y_train)"
   ]
  },
  {
   "cell_type": "code",
   "execution_count": null,
   "id": "fffb96f7",
   "metadata": {},
   "outputs": [],
   "source": [
    "print(model.coef_, model.intercept_)"
   ]
  },
  {
   "cell_type": "markdown",
   "id": "2ee0f7ed",
   "metadata": {},
   "source": [
    "### Predict the Test set results"
   ]
  },
  {
   "cell_type": "code",
   "execution_count": null,
   "id": "27bb80f1",
   "metadata": {},
   "outputs": [],
   "source": [
    "# UTIL\n",
    "def concatenate_vecs_vertically(*vecs):\n",
    "    VERTICAL_AXIS = 1\n",
    "    vertical_vecs = []\n",
    "    verticalize = lambda vec : vec.reshape(len(vec), VERTICAL_AXIS)\n",
    "    for vec in vecs:\n",
    "        vertical_vecs.append(verticalize(vec))\n",
    "        \n",
    "    return np.concatenate(tuple(vertical_vecs), VERTICAL_AXIS)"
   ]
  },
  {
   "cell_type": "code",
   "execution_count": 4,
   "id": "cceed038",
   "metadata": {},
   "outputs": [
    {
     "ename": "NameError",
     "evalue": "name 'model' is not defined",
     "output_type": "error",
     "traceback": [
      "\u001b[1;31m---------------------------------------------------------------------------\u001b[0m",
      "\u001b[1;31mNameError\u001b[0m                                 Traceback (most recent call last)",
      "\u001b[1;32m<ipython-input-4-9935bf494d6c>\u001b[0m in \u001b[0;36m<module>\u001b[1;34m\u001b[0m\n\u001b[1;32m----> 1\u001b[1;33m \u001b[0my_predict\u001b[0m \u001b[1;33m=\u001b[0m \u001b[0mmodel\u001b[0m\u001b[1;33m.\u001b[0m\u001b[0mpredict\u001b[0m\u001b[1;33m(\u001b[0m\u001b[0mX_test\u001b[0m\u001b[1;33m)\u001b[0m\u001b[1;33m\u001b[0m\u001b[1;33m\u001b[0m\u001b[0m\n\u001b[0m\u001b[0;32m      2\u001b[0m \u001b[0mprint\u001b[0m\u001b[1;33m(\u001b[0m\u001b[1;34m'Predicted data vs. Real data'\u001b[0m\u001b[1;33m)\u001b[0m\u001b[1;33m\u001b[0m\u001b[1;33m\u001b[0m\u001b[0m\n\u001b[0;32m      3\u001b[0m \u001b[0mprint\u001b[0m\u001b[1;33m(\u001b[0m\u001b[0mconcatenate_vecs_vertically\u001b[0m\u001b[1;33m(\u001b[0m\u001b[0my_predict\u001b[0m\u001b[1;33m,\u001b[0m \u001b[0my_test\u001b[0m\u001b[1;33m)\u001b[0m\u001b[1;33m)\u001b[0m\u001b[1;33m\u001b[0m\u001b[1;33m\u001b[0m\u001b[0m\n",
      "\u001b[1;31mNameError\u001b[0m: name 'model' is not defined"
     ]
    }
   ],
   "source": [
    "y_predict = model.predict(X_test)\n",
    "print('Predicted data vs. Real data')\n",
    "print(concatenate_vecs_vertically(y_predict, y_test))"
   ]
  }
 ],
 "metadata": {
  "kernelspec": {
   "display_name": "Python 3",
   "language": "python",
   "name": "python3"
  },
  "language_info": {
   "codemirror_mode": {
    "name": "ipython",
    "version": 3
   },
   "file_extension": ".py",
   "mimetype": "text/x-python",
   "name": "python",
   "nbconvert_exporter": "python",
   "pygments_lexer": "ipython3",
   "version": "3.8.8"
  }
 },
 "nbformat": 4,
 "nbformat_minor": 5
}
