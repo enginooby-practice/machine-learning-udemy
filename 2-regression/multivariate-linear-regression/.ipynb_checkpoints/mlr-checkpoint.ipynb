{
 "cells": [
  {
   "cell_type": "code",
   "execution_count": 1,
   "id": "1aa1a2ad",
   "metadata": {},
   "outputs": [],
   "source": [
    "import sys\n",
    "import numpy as np\n",
    "import pandas as pd\n",
    "import matplotlib.pyplot as plt"
   ]
  },
  {
   "cell_type": "markdown",
   "id": "989cb89a",
   "metadata": {},
   "source": [
    "### Preprocess data"
   ]
  },
  {
   "cell_type": "code",
   "execution_count": 4,
   "id": "fd85b637",
   "metadata": {},
   "outputs": [],
   "source": [
    "sys.path.insert(0, '../../utils')\n",
    "from ipynb.fs.defs.data_preprocessing import preprocess_dataset\n",
    "\n",
    "X_train, X_test, y_train, y_test = \n",
    "preprocess_dataset(\n",
    "    dataset_url = '50_Startups.csv', \n",
    "    nominal_feature_cols = [3], \n",
    "    debug = True\n",
    ")"
   ]
  }
 ],
 "metadata": {
  "kernelspec": {
   "display_name": "Python 3",
   "language": "python",
   "name": "python3"
  },
  "language_info": {
   "codemirror_mode": {
    "name": "ipython",
    "version": 3
   },
   "file_extension": ".py",
   "mimetype": "text/x-python",
   "name": "python",
   "nbconvert_exporter": "python",
   "pygments_lexer": "ipython3",
   "version": "3.8.8"
  }
 },
 "nbformat": 4,
 "nbformat_minor": 5
}
