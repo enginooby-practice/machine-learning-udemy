{
 "cells": [
  {
   "cell_type": "code",
   "execution_count": 40,
   "id": "9ee6e58c",
   "metadata": {},
   "outputs": [
    {
     "name": "stdout",
     "output_type": "stream",
     "text": [
      "\n",
      "X_train\n",
      " [[0.0 0.0 1.0 -0.19159184384578545 -1.0781259408412425]\n",
      " [0.0 1.0 0.0 -0.014117293757057777 -0.07013167641635372]\n",
      " [1.0 0.0 0.0 0.566708506533324 0.633562432710455]\n",
      " [0.0 0.0 1.0 -0.30453019390224867 -0.30786617274297867]\n",
      " [0.0 0.0 1.0 -1.9018011447007988 -1.420463615551582]\n",
      " [1.0 0.0 0.0 1.1475343068237058 1.232653363453549]\n",
      " [0.0 1.0 0.0 1.4379472069688968 1.5749910381638885]\n",
      " [1.0 0.0 0.0 -0.7401495441200351 -0.5646194287757332]]\n",
      "\n",
      "X_test\n",
      " [[0.0 1.0 0.0 -1.4661817944830124 -0.9069571034860727]\n",
      " [1.0 0.0 0.0 -0.44973664397484414 0.2056403393225306]]\n",
      "\n",
      "y_train\n",
      " [0 1 0 0 1 1 0 1]\n",
      "\n",
      "y_test\n",
      " [0 1]\n"
     ]
    }
   ],
   "source": [
    "from ipynb.fs.defs.data_preprocessing_tools import preprocess_dataset\n",
    "\n",
    "X_train, X_test, y_train, y_test = preprocess_dataset(dataset_url = 'Data.csv', numeric_feature_cols = np.s_[:, -2:], nominal_feature_cols =  [0])\n",
    "print(\"\\nX_train\\n\", X_train)\n",
    "print(\"\\nX_test\\n\", X_test)\n",
    "print(\"\\ny_train\\n\", y_train)\n",
    "print(\"\\ny_test\\n\", y_test)"
   ]
  }
 ],
 "metadata": {
  "kernelspec": {
   "display_name": "Python 3",
   "language": "python",
   "name": "python3"
  },
  "language_info": {
   "codemirror_mode": {
    "name": "ipython",
    "version": 3
   },
   "file_extension": ".py",
   "mimetype": "text/x-python",
   "name": "python",
   "nbconvert_exporter": "python",
   "pygments_lexer": "ipython3",
   "version": "3.8.8"
  }
 },
 "nbformat": 4,
 "nbformat_minor": 5
}
