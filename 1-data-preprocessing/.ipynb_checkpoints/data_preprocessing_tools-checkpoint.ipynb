{
 "cells": [
  {
   "cell_type": "markdown",
   "metadata": {
    "colab_type": "text",
    "id": "37puETfgRzzg"
   },
   "source": [
    "# Data Preprocessing Tools"
   ]
  },
  {
   "cell_type": "markdown",
   "metadata": {
    "colab_type": "text",
    "id": "EoRP98MpR-qj"
   },
   "source": [
    "## Importing the libraries"
   ]
  },
  {
   "cell_type": "code",
   "execution_count": 12,
   "metadata": {},
   "outputs": [],
   "source": [
    "import numpy as np\n",
    "import matplotlib.pyplot as plt\n",
    "import pandas as pd"
   ]
  },
  {
   "cell_type": "markdown",
   "metadata": {},
   "source": [
    "## Inspecting the dataset"
   ]
  },
  {
   "cell_type": "code",
   "execution_count": 3,
   "metadata": {},
   "outputs": [],
   "source": [
    "# Dataset-specific params\n",
    "DATASET_URL = 'Data.csv'\n",
    "NUMERIC_FEATURE_COLS = np.s_[:, -2:] # (from features)\n",
    "NOMINAL_FEATURE_COLS = [0] # (from features)"
   ]
  },
  {
   "cell_type": "markdown",
   "metadata": {
    "colab_type": "text",
    "id": "RopL7tUZSQkT"
   },
   "source": [
    "## Importing the dataset"
   ]
  },
  {
   "cell_type": "markdown",
   "metadata": {},
   "source": [
    "_**Independent vars (features/inputs)**_ & _**dependent var (output)**_ need to be separated from the dataset to feed the training models."
   ]
  },
  {
   "cell_type": "code",
   "execution_count": 18,
   "metadata": {},
   "outputs": [],
   "source": [
    "def import_dataset(dataset_url, feature_cols, dependent_col):\n",
    "    dataset = pd.read_csv(dataset_url)\n",
    "    X = dataset.iloc[feature_cols].values\n",
    "    y = dataset.iloc[dependent_col].values\n",
    "    \n",
    "    return X,  y"
   ]
  },
  {
   "cell_type": "code",
   "execution_count": 21,
   "metadata": {},
   "outputs": [],
   "source": [
    "# debug\n",
    "# X, y = import_dataset(dataset_url = DATASET_URL)\n",
    "# print(\"X\", X)\n",
    "# print(\"\\ny\", y)"
   ]
  },
  {
   "cell_type": "markdown",
   "metadata": {
    "colab_type": "text",
    "id": "nhfKXNxlSabC"
   },
   "source": [
    "## Handle missing data"
   ]
  },
  {
   "cell_type": "markdown",
   "metadata": {},
   "source": [
    "There are some different ways to fill the missing data in the dataset such as _**mean (avarage), median**_, etc of the whole column. Among them, _**mean**_ strategy is commonly used."
   ]
  },
  {
   "cell_type": "markdown",
   "metadata": {},
   "source": [
    "We only deal with numeric inputs:"
   ]
  },
  {
   "cell_type": "code",
   "execution_count": 5,
   "metadata": {},
   "outputs": [],
   "source": [
    "def handle_missing_data(features, numeric_feature_cols, strategy):\n",
    "    if(numeric_feature_cols is None): return\n",
    "\n",
    "    from sklearn.impute import SimpleImputer\n",
    "    imputer = SimpleImputer(missing_values = np.nan, strategy = strategy)\n",
    "    imputer.fit(features[numeric_feature_cols])\n",
    "    features[numeric_feature_cols] = imputer.transform(features[numeric_feature_cols])                    "
   ]
  },
  {
   "cell_type": "code",
   "execution_count": 22,
   "metadata": {},
   "outputs": [],
   "source": [
    "# debug\n",
    "# handle_missing_data(features = X, numeric_feature_cols = NUMERIC_FEATURE_COLS)\n",
    "# print(X)"
   ]
  },
  {
   "cell_type": "markdown",
   "metadata": {
    "colab_type": "text",
    "id": "CriG6VzVSjcK"
   },
   "source": [
    "## Encoding categorical data"
   ]
  },
  {
   "cell_type": "markdown",
   "metadata": {},
   "source": [
    "For ML to compute the corelation between independent & dependent variables, categorical (non-contiguous) data such as _string_ need to be encoded as number."
   ]
  },
  {
   "cell_type": "markdown",
   "metadata": {
    "colab_type": "text",
    "id": "AhSpdQWeSsFh"
   },
   "source": [
    "### Encoding the Independent Variable"
   ]
  },
  {
   "cell_type": "markdown",
   "metadata": {},
   "source": [
    "Independent variables do not have order, hence should not encoded as ordinal numbers (1, 2, 3...) by ```LabalEncoder```, but different unorder form such as matrix of numbers by ```OneHotEncoder```."
   ]
  },
  {
   "cell_type": "code",
   "execution_count": 6,
   "metadata": {},
   "outputs": [],
   "source": [
    "def encode_nominal_features(features, nominal_feature_cols):\n",
    "    if (nominal_feature_cols is None): return features\n",
    "    \n",
    "    from sklearn.compose import ColumnTransformer\n",
    "    from sklearn.preprocessing import OneHotEncoder\n",
    "    transformer = ColumnTransformer(transformers = [('encoder', OneHotEncoder(), nominal_feature_cols)], remainder = 'passthrough') # passthrough to keep uncoded vars in the independent vars\n",
    "    \n",
    "    return np.array(transformer.fit_transform(features))"
   ]
  },
  {
   "cell_type": "code",
   "execution_count": 23,
   "metadata": {},
   "outputs": [],
   "source": [
    "# debug\n",
    "# X = encode_nominal_features(features = X, nominal_feature_cols = NOMINAL_FEATURE_COLS)\n",
    "# print(X)"
   ]
  },
  {
   "cell_type": "markdown",
   "metadata": {
    "colab_type": "text",
    "id": "DXh8oVSITIc6"
   },
   "source": [
    "### Encoding the Dependent Variable"
   ]
  },
  {
   "cell_type": "markdown",
   "metadata": {},
   "source": [
    "Dependent feature can be encoded as ordinal numbers."
   ]
  },
  {
   "cell_type": "code",
   "execution_count": 7,
   "metadata": {},
   "outputs": [],
   "source": [
    "def encode_independent_var(independent_var):\n",
    "    from sklearn.preprocessing import LabelEncoder\n",
    "    \n",
    "    return LabelEncoder().fit_transform(independent_var)"
   ]
  },
  {
   "cell_type": "code",
   "execution_count": 24,
   "metadata": {},
   "outputs": [],
   "source": [
    "# debug\n",
    "# y = encode_independent_var(independent_var = y)\n",
    "# print(y)"
   ]
  },
  {
   "cell_type": "markdown",
   "metadata": {
    "colab_type": "text",
    "id": "qb_vcgm3qZKW"
   },
   "source": [
    "## Splitting the dataset into the Training set and Test set"
   ]
  },
  {
   "cell_type": "markdown",
   "metadata": {},
   "source": [
    "Training set should be relatively larger than test set in order to to provide sufficient amount of inputs to train model. Here we use 80% of dataset for training and 20% for test."
   ]
  },
  {
   "cell_type": "code",
   "execution_count": 16,
   "metadata": {},
   "outputs": [],
   "source": [
    "def split_dataset(features, independent_var, test_size):\n",
    "    from sklearn.model_selection import train_test_split\n",
    "    return train_test_split(features, independent_var, test_size = test_size, random_state = 1) # keep randomness seed of spliting fixed => receive the same training & test set each time execute"
   ]
  },
  {
   "cell_type": "code",
   "execution_count": 25,
   "metadata": {},
   "outputs": [],
   "source": [
    "# debug\n",
    "# X_train, X_test, y_train, y_test = split_dataset(features = X, independent_var = y)\n",
    "# print(\"X_train\", X_train)\n",
    "# print(\"\\nX_test\", X_test)\n",
    "# print(\"\\ny_train\", y_train)\n",
    "# print(\"\\ny_test\", y_test)"
   ]
  },
  {
   "cell_type": "markdown",
   "metadata": {
    "colab_type": "text",
    "id": "TpGqbS4TqkIR"
   },
   "source": [
    "## Feature Scaling"
   ]
  },
  {
   "cell_type": "markdown",
   "metadata": {},
   "source": [
    "In certain (not all) models, scaling to put all the _non-categorical features_ on the same scale to avoid some features to dominate others. This should fit to only training set (_after dataset splitting_), since we treat test set as future data which we don't have yet."
   ]
  },
  {
   "cell_type": "code",
   "execution_count": 9,
   "metadata": {},
   "outputs": [],
   "source": [
    "def scale_features(X_train, X_test, numeric_feature_cols):\n",
    "    if(numeric_feature_cols is None): return\n",
    " \n",
    "    from sklearn.preprocessing import StandardScaler\n",
    "    scaler = StandardScaler()\n",
    "    X_train[numeric_feature_cols] = scaler.fit_transform(X_train[numeric_feature_cols])\n",
    "    X_test[numeric_feature_cols] = scaler.transform(X_test[numeric_feature_cols])"
   ]
  },
  {
   "cell_type": "code",
   "execution_count": 26,
   "metadata": {},
   "outputs": [],
   "source": [
    "# debug\n",
    "# scale_features(X_train = X_train, X_test = X_test, numeric_feature_cols = NUMERIC_FEATURE_COLS)\n",
    "# print(\"Scaled X_train\", X_train)\n",
    "# print(\"\\nScaled X_test\", X_test)"
   ]
  },
  {
   "cell_type": "markdown",
   "metadata": {},
   "source": [
    "# Tool"
   ]
  },
  {
   "cell_type": "code",
   "execution_count": 42,
   "metadata": {},
   "outputs": [],
   "source": [
    "def preprocess_dataset(\n",
    "    dataset_url, \n",
    "    feature_cols = np.s_[:, :-1], # all rows, all colums excepts last (from dataset)\n",
    "    numeric_feature_cols = None, # (from features)\n",
    "    nominal_feature_cols = None, # (from features)\n",
    "    dependent_col  = np.s_[:, -1], # all rows, last column (from dataset),\n",
    "    is_dependent_categorical = False,\n",
    "    missing_data_handling_strategy = 'mean',\n",
    "    test_size = 0.2):\n",
    "    \n",
    "    X, y = import_dataset(dataset_url, feature_cols, dependent_col)\n",
    "    handle_missing_data(X, numeric_feature_cols, missing_data_handling_strategy)\n",
    "    X = encode_nominal_features(X, nominal_feature_cols)\n",
    "    if(is_dependent_categorical): y = encode_independent_var(y)\n",
    "    X_train, X_test, y_train, y_test = split_dataset(X, y, test_size)\n",
    "    scale_features(X_train, X_test, numeric_feature_cols)\n",
    "\n",
    "    # debug\n",
    "    print(\"\\nX_train\\n\", X_train)\n",
    "    print(\"\\nX_test\\n\", X_test)\n",
    "    print(\"\\ny_train\\n\", y_train)\n",
    "    print(\"\\ny_test\\n\", y_test)\n",
    "\n",
    "    return X_train, X_test, y_train, y_test"
   ]
  },
  {
   "cell_type": "code",
   "execution_count": 43,
   "metadata": {},
   "outputs": [
    {
     "name": "stdout",
     "output_type": "stream",
     "text": [
      "\n",
      "X_train\n",
      " [[0.0 0.0 1.0 -0.19159184384578545 -1.0781259408412425]\n",
      " [0.0 1.0 0.0 -0.014117293757057777 -0.07013167641635372]\n",
      " [1.0 0.0 0.0 0.566708506533324 0.633562432710455]\n",
      " [0.0 0.0 1.0 -0.30453019390224867 -0.30786617274297867]\n",
      " [0.0 0.0 1.0 -1.9018011447007988 -1.420463615551582]\n",
      " [1.0 0.0 0.0 1.1475343068237058 1.232653363453549]\n",
      " [0.0 1.0 0.0 1.4379472069688968 1.5749910381638885]\n",
      " [1.0 0.0 0.0 -0.7401495441200351 -0.5646194287757332]]\n",
      "\n",
      "X_test\n",
      " [[0.0 1.0 0.0 -1.4661817944830124 -0.9069571034860727]\n",
      " [1.0 0.0 0.0 -0.44973664397484414 0.2056403393225306]]\n",
      "\n",
      "y_train\n",
      " ['No' 'Yes' 'No' 'No' 'Yes' 'Yes' 'No' 'Yes']\n",
      "\n",
      "y_test\n",
      " ['No' 'Yes']\n"
     ]
    }
   ],
   "source": [
    "# debug\n",
    "X_train, X_test, y_train, y_test = preprocess_dataset(dataset_url = 'Data.csv', numeric_feature_cols = np.s_[:, -2:], nominal_feature_cols =  [0])"
   ]
  }
 ],
 "metadata": {
  "colab": {
   "collapsed_sections": [],
   "name": "data_preprocessing_tools.ipynb",
   "provenance": [],
   "toc_visible": true
  },
  "kernelspec": {
   "display_name": "Python 3",
   "language": "python",
   "name": "python3"
  },
  "language_info": {
   "codemirror_mode": {
    "name": "ipython",
    "version": 3
   },
   "file_extension": ".py",
   "mimetype": "text/x-python",
   "name": "python",
   "nbconvert_exporter": "python",
   "pygments_lexer": "ipython3",
   "version": "3.8.8"
  }
 },
 "nbformat": 4,
 "nbformat_minor": 1
}
