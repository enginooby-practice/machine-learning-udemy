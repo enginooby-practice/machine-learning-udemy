{
 "cells": [
  {
   "cell_type": "code",
   "execution_count": 4,
   "id": "11ad390e",
   "metadata": {},
   "outputs": [],
   "source": [
    "import matplotlib.pyplot as plt\n",
    "import ipynb.fs.full.vector as uvec\n",
    "import numpy as np"
   ]
  },
  {
   "cell_type": "code",
   "execution_count": 5,
   "id": "b836c777",
   "metadata": {},
   "outputs": [],
   "source": [
    "# @feature: independent var - @result: dependent var\n",
    "def visualize_model(model, features, results, feature_label, result_label, feature_scaler = None, result_scaler = None, is_resolution_high = True):       \n",
    "    scatter_dataset(features, results, feature_scaler, result_scaler)\n",
    "    plot_model(model, features, results, feature_scaler, result_scaler, is_resolution_high)\n",
    "    describe_model(feature_label, result_label)\n",
    "    plt.show()"
   ]
  },
  {
   "cell_type": "code",
   "execution_count": null,
   "id": "82ba7598",
   "metadata": {},
   "outputs": [],
   "source": [
    "def scatter_dataset(features, results, feature_scaler, result_scaler):\n",
    "    unscaled_features = feature_scaler.inverse_transform(features) if feature_scaler else features \n",
    "    actual_results = result_scaler.inverse_transform(results) if result_scaler else results\n",
    "    \n",
    "    plt.scatter(unscaled_features, actual_results, color = 'red')"
   ]
  },
  {
   "cell_type": "code",
   "execution_count": null,
   "id": "847cde74",
   "metadata": {},
   "outputs": [],
   "source": [
    "# REFACTOR\n",
    "def plot_model(model, features, results, feature_scaler, result_scaler, is_resolution_high):\n",
    "    unscaled_features = feature_scaler.inverse_transform(features) if feature_scaler else features \n",
    "    grid_features = uvec.verticalize(np.arange(min(unscaled_features), max(unscaled_features), 0.1)) if is_resolution_high else unscaled_features\n",
    "    scaled_grid_features = feature_scaler.transform(grid_features) if feature_scaler else grid_features\n",
    "    predicted_results = result_scaler.inverse_transform(model.predict(scaled_grid_features)) if result_scaler else model.predict(scaled_grid_features)\n",
    "    \n",
    "    plt.plot(grid_features, predicted_results, color = 'blue')"
   ]
  },
  {
   "cell_type": "code",
   "execution_count": 2,
   "id": "2f059d66",
   "metadata": {},
   "outputs": [],
   "source": [
    "def describe_model(feature_label, result_label):\n",
    "    plt.title(feature_label + ' vs. ' + result_label)\n",
    "    plt.xlabel(feature_label)\n",
    "    plt.ylabel(result_label)"
   ]
  }
 ],
 "metadata": {
  "kernelspec": {
   "display_name": "Python 3",
   "language": "python",
   "name": "python3"
  },
  "language_info": {
   "codemirror_mode": {
    "name": "ipython",
    "version": 3
   },
   "file_extension": ".py",
   "mimetype": "text/x-python",
   "name": "python",
   "nbconvert_exporter": "python",
   "pygments_lexer": "ipython3",
   "version": "3.8.8"
  }
 },
 "nbformat": 4,
 "nbformat_minor": 5
}
