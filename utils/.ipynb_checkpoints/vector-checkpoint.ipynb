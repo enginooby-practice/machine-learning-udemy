{
 "cells": [
  {
   "cell_type": "code",
   "execution_count": 3,
   "id": "0e734f03",
   "metadata": {},
   "outputs": [],
   "source": [
    "import numpy as np"
   ]
  },
  {
   "cell_type": "code",
   "execution_count": 9,
   "id": "d87e8dd8",
   "metadata": {},
   "outputs": [],
   "source": [
    "verticalize = lambda vec : vec.reshape(len(vec), 1)"
   ]
  },
  {
   "cell_type": "code",
   "execution_count": 7,
   "id": "9b62f073",
   "metadata": {},
   "outputs": [],
   "source": [
    "def concatenate_vertically(*vecs):\n",
    "    vertical_vecs = []\n",
    "    for vec in vecs:\n",
    "        vertical_vecs.append(verticalize(vec))\n",
    "        \n",
    "    return np.concatenate(tuple(vertical_vecs), 1)"
   ]
  }
 ],
 "metadata": {
  "kernelspec": {
   "display_name": "Python 3",
   "language": "python",
   "name": "python3"
  },
  "language_info": {
   "codemirror_mode": {
    "name": "ipython",
    "version": 3
   },
   "file_extension": ".py",
   "mimetype": "text/x-python",
   "name": "python",
   "nbconvert_exporter": "python",
   "pygments_lexer": "ipython3",
   "version": "3.8.8"
  }
 },
 "nbformat": 4,
 "nbformat_minor": 5
}
