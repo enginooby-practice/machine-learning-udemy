{
 "cells": [
  {
   "cell_type": "markdown",
   "metadata": {
    "colab_type": "text",
    "id": "37puETfgRzzg"
   },
   "source": [
    "# Data Preprocessing Tools"
   ]
  },
  {
   "cell_type": "markdown",
   "metadata": {
    "colab_type": "text",
    "id": "EoRP98MpR-qj"
   },
   "source": [
    "## Importing the libraries"
   ]
  },
  {
   "cell_type": "code",
   "execution_count": 1,
   "metadata": {},
   "outputs": [],
   "source": [
    "import numpy as np\n",
    "import matplotlib.pyplot as plt\n",
    "import pandas as pd"
   ]
  },
  {
   "cell_type": "markdown",
   "metadata": {
    "colab_type": "text",
    "id": "RopL7tUZSQkT"
   },
   "source": [
    "## Importing the dataset"
   ]
  },
  {
   "cell_type": "markdown",
   "metadata": {},
   "source": [
    "_**Independent vars (features/inputs)**_ & _**dependent var (output)**_ need to be separated from the dataset to feed the training models."
   ]
  },
  {
   "cell_type": "code",
   "execution_count": 1,
   "metadata": {},
   "outputs": [],
   "source": [
    "def import_dataset(dataset_url, feature_cols, dependent_col):\n",
    "    dataset = pd.read_csv(dataset_url)\n",
    "    X = dataset.iloc[feature_cols].values\n",
    "    y = dataset.iloc[dependent_col].values\n",
    "    \n",
    "    return dataset, X,  y"
   ]
  },
  {
   "cell_type": "markdown",
   "metadata": {
    "colab_type": "text",
    "id": "nhfKXNxlSabC"
   },
   "source": [
    "## Handle missing numeric data"
   ]
  },
  {
   "cell_type": "markdown",
   "metadata": {},
   "source": [
    "There are some different ways to fill the missing data in the dataset such as _**mean (avarage), median**_, etc of the whole column. Among them, _**mean**_ strategy is commonly used."
   ]
  },
  {
   "cell_type": "markdown",
   "metadata": {},
   "source": [
    "We only deal with numeric inputs:"
   ]
  },
  {
   "cell_type": "code",
   "execution_count": 1,
   "metadata": {},
   "outputs": [],
   "source": [
    "def handle_missing_numeric_data(features, numeric_feature_cols, strategy):\n",
    "    if(numeric_feature_cols is None): return\n",
    "\n",
    "    from sklearn.impute import SimpleImputer\n",
    "    imputer = SimpleImputer(missing_values = np.nan, strategy = strategy)\n",
    "    imputer.fit(features[numeric_feature_cols])\n",
    "    features[numeric_feature_cols] = imputer.transform(features[numeric_feature_cols])                    "
   ]
  },
  {
   "cell_type": "markdown",
   "metadata": {
    "colab_type": "text",
    "id": "CriG6VzVSjcK"
   },
   "source": [
    "## Encoding categorical data"
   ]
  },
  {
   "cell_type": "markdown",
   "metadata": {},
   "source": [
    "For ML to compute the corelation between independent & dependent variables, categorical (non-contiguous) data such as _string_ need to be encoded as number."
   ]
  },
  {
   "cell_type": "markdown",
   "metadata": {
    "colab_type": "text",
    "id": "AhSpdQWeSsFh"
   },
   "source": [
    "### Encoding the Independent Variable"
   ]
  },
  {
   "cell_type": "markdown",
   "metadata": {},
   "source": [
    "Independent variables do not have order, hence should not encoded as ordinal numbers (1, 2, 3...) by ```LabalEncoder```, but different unorder form such as matrix of numbers by ```OneHotEncoder```."
   ]
  },
  {
   "cell_type": "code",
   "execution_count": 7,
   "metadata": {},
   "outputs": [],
   "source": [
    "def encode_nominal_features(features, nominal_feature_cols):\n",
    "    if (nominal_feature_cols is None): return features\n",
    "    \n",
    "    from sklearn.compose import ColumnTransformer\n",
    "    from sklearn.preprocessing import OneHotEncoder\n",
    "    \n",
    "    # @drop (remove) first encoded column to avoid \"dummy variable trap\" or data redundancy\n",
    "    encoder = OneHotEncoder(drop='first')\n",
    "    # @remainder passthrough to keep uncoded vars in the independent vars (features)\n",
    "    transformer = ColumnTransformer(transformers = [('encoder', encoder, nominal_feature_cols)], remainder = 'passthrough') \n",
    "    \n",
    "    return np.array(transformer.fit_transform(features))"
   ]
  },
  {
   "cell_type": "markdown",
   "metadata": {
    "colab_type": "text",
    "id": "DXh8oVSITIc6"
   },
   "source": [
    "### Encoding the Dependent Variable"
   ]
  },
  {
   "cell_type": "markdown",
   "metadata": {},
   "source": [
    "Dependent feature can be encoded as ordinal numbers."
   ]
  },
  {
   "cell_type": "code",
   "execution_count": 9,
   "metadata": {},
   "outputs": [],
   "source": [
    "def encode_independent_var(independent_var):\n",
    "    from sklearn.preprocessing import LabelEncoder\n",
    "    \n",
    "    return LabelEncoder().fit_transform(independent_var)"
   ]
  },
  {
   "cell_type": "markdown",
   "metadata": {
    "colab_type": "text",
    "id": "qb_vcgm3qZKW"
   },
   "source": [
    "## Splitting the dataset into the Training set and Test set"
   ]
  },
  {
   "cell_type": "markdown",
   "metadata": {},
   "source": [
    "Training set should be relatively larger than test set in order to to provide sufficient amount of inputs to train model. Here we use 80% of dataset for training and 20% for test."
   ]
  },
  {
   "cell_type": "code",
   "execution_count": 11,
   "metadata": {},
   "outputs": [],
   "source": [
    "def split_dataset(features, independent_var, test_size):\n",
    "    from sklearn.model_selection import train_test_split\n",
    "    return train_test_split(features, independent_var, test_size = test_size, random_state = 0) # keep randomness seed of spliting fixed => receive the same training & test set each time execute"
   ]
  },
  {
   "cell_type": "markdown",
   "metadata": {
    "colab_type": "text",
    "id": "TpGqbS4TqkIR"
   },
   "source": [
    "## Feature Scaling"
   ]
  },
  {
   "cell_type": "markdown",
   "metadata": {},
   "source": [
    "In certain (not all) models, scaling to put all the _non-categorical features_ on the same scale to avoid some features to dominate others. This should fit to only training set (_after dataset splitting_), since we treat test set as future data which we don't have yet."
   ]
  },
  {
   "cell_type": "code",
   "execution_count": 13,
   "metadata": {},
   "outputs": [],
   "source": [
    "def scale_features(X_train, X_test, numeric_feature_cols):\n",
    "    if(numeric_feature_cols is None): return\n",
    " \n",
    "    from sklearn.preprocessing import StandardScaler\n",
    "    scaler = StandardScaler()\n",
    "    if(X_train): X_train[numeric_feature_cols] = scaler.fit_transform(X_train[numeric_feature_cols])\n",
    "    if(X_test): X_test[numeric_feature_cols] = scaler.transform(X_test[numeric_feature_cols])"
   ]
  },
  {
   "cell_type": "markdown",
   "metadata": {},
   "source": [
    "# Tool"
   ]
  },
  {
   "cell_type": "code",
   "execution_count": 2,
   "metadata": {},
   "outputs": [
    {
     "ename": "NameError",
     "evalue": "name 'np' is not defined",
     "output_type": "error",
     "traceback": [
      "\u001b[1;31m--------------------------------------------------------------------\u001b[0m",
      "\u001b[1;31mNameError\u001b[0m                          Traceback (most recent call last)",
      "\u001b[1;32m<ipython-input-2-a8b820b4d20e>\u001b[0m in \u001b[0;36m<module>\u001b[1;34m\u001b[0m\n\u001b[0;32m      1\u001b[0m def preprocess_dataset(\n\u001b[0;32m      2\u001b[0m     \u001b[0mdataset_url\u001b[0m\u001b[1;33m,\u001b[0m\u001b[1;33m\u001b[0m\u001b[1;33m\u001b[0m\u001b[0m\n\u001b[1;32m----> 3\u001b[1;33m     \u001b[0mfeature_cols\u001b[0m \u001b[1;33m=\u001b[0m \u001b[0mnp\u001b[0m\u001b[1;33m.\u001b[0m\u001b[0ms_\u001b[0m\u001b[1;33m[\u001b[0m\u001b[1;33m:\u001b[0m\u001b[1;33m,\u001b[0m \u001b[1;33m:\u001b[0m\u001b[1;33m-\u001b[0m\u001b[1;36m1\u001b[0m\u001b[1;33m]\u001b[0m\u001b[1;33m,\u001b[0m \u001b[1;31m# (from dataset) all rows, all colums excepts last\u001b[0m\u001b[1;33m\u001b[0m\u001b[1;33m\u001b[0m\u001b[0m\n\u001b[0m\u001b[0;32m      4\u001b[0m     \u001b[0mnumeric_feature_cols\u001b[0m \u001b[1;33m=\u001b[0m \u001b[1;32mNone\u001b[0m\u001b[1;33m,\u001b[0m \u001b[1;31m# (from features) if provide, handle missing data & scale  TODO: separate scale\u001b[0m\u001b[1;33m\u001b[0m\u001b[1;33m\u001b[0m\u001b[0m\n\u001b[0;32m      5\u001b[0m     \u001b[0mnominal_feature_cols\u001b[0m \u001b[1;33m=\u001b[0m \u001b[1;32mNone\u001b[0m\u001b[1;33m,\u001b[0m \u001b[1;31m# (from features) if provide, encode w/ OneHotEncoder\u001b[0m\u001b[1;33m\u001b[0m\u001b[1;33m\u001b[0m\u001b[0m\n",
      "\u001b[1;31mNameError\u001b[0m: name 'np' is not defined"
     ]
    }
   ],
   "source": [
    "def preprocess_dataset(\n",
    "    dataset_url, \n",
    "    feature_cols = np.s_[:, :-1], # (from dataset) all rows, all colums excepts last \n",
    "    numeric_feature_cols = None, # (from features) if provide, handle missing data & scale. TODO: separate scale\n",
    "    nominal_feature_cols = None, # (from features) if provide, encode w/ OneHotEncoder\n",
    "    dependent_col  = np.s_[:, -1], # (from dataset) all rows, last column \n",
    "    is_dependent_categorical = False, # if True, encode w/ LabelEncoder\n",
    "    missing_data_handling_strategy = 'mean',\n",
    "    test_size = 0.2, # split x% of dataset into test set\n",
    "    debug = False):\n",
    "    \n",
    "    dataset, X, y = import_dataset(dataset_url, feature_cols, dependent_col)\n",
    "    handle_missing_numeric_data(X, numeric_feature_cols, missing_data_handling_strategy)\n",
    "    X = encode_nominal_features(X, nominal_feature_cols)\n",
    "    if(is_dependent_categorical): y = encode_independent_var(y)\n",
    "        \n",
    "    if(test_size):\n",
    "        X_train, X_test, y_train, y_test = split_dataset(X, y, test_size)\n",
    "    else:\n",
    "        X_train, X_test, y_train, y_test = X, None, y, None\n",
    "        \n",
    "    scale_features(X_train, X_test, numeric_feature_cols)\n",
    "\n",
    "    if(debug):\n",
    "        print(\"\\ndataset\\n\", dataset)\n",
    "        print(\"\\nX_train\\n\", X_train)\n",
    "        print(\"\\nX_test\\n\", X_test)\n",
    "        print(\"\\ny_train\\n\", y_train)\n",
    "        print(\"\\ny_test\\n\", y_test)\n",
    "\n",
    "    return dataset, X_train, X_test, y_train, y_test"
   ]
  }
 ],
 "metadata": {
  "colab": {
   "collapsed_sections": [],
   "name": "data_preprocessing_tools.ipynb",
   "provenance": [],
   "toc_visible": true
  },
  "kernelspec": {
   "display_name": "Python 3",
   "language": "python",
   "name": "python3"
  },
  "language_info": {
   "codemirror_mode": {
    "name": "ipython",
    "version": 3
   },
   "file_extension": ".py",
   "mimetype": "text/x-python",
   "name": "python",
   "nbconvert_exporter": "python",
   "pygments_lexer": "ipython3",
   "version": "3.8.8"
  }
 },
 "nbformat": 4,
 "nbformat_minor": 1
}
