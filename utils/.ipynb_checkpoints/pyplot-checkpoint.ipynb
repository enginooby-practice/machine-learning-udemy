{
 "cells": [
  {
   "cell_type": "code",
   "execution_count": 3,
   "id": "a48cfc20",
   "metadata": {},
   "outputs": [],
   "source": [
    "# @feature: independent var - @result: dependent var\n",
    "def plot_model(model, features, results, feature_label, result_label, feature_scaler = None, result_scaler = None):\n",
    "    import matplotlib.pyplot as plt\n",
    "    \n",
    "    # Inverse scales of vars\n",
    "    unscaled_features = feature_scaler.inverse_transform(features) if feature_scaler else features\n",
    "    actual_results = result_scaler.inverse_transform(results) if result_scaler else results\n",
    "    predicted_results = result_scaler.inverse_transform(model.predict(features)) if result_scaler else model.predict(features)\n",
    "    \n",
    "    plt.scatter(unscaled_features, actual_results, color = 'red')\n",
    "    plt.plot(unscaled_features, predicted_results, color = 'blue')\n",
    "    plt.title(feature_label + ' vs. ' + result_label)\n",
    "    plt.xlabel(feature_label)\n",
    "    plt.ylabel(result_label)\n",
    "    plt.show()"
   ]
  }
 ],
 "metadata": {
  "kernelspec": {
   "display_name": "Python 3",
   "language": "python",
   "name": "python3"
  },
  "language_info": {
   "codemirror_mode": {
    "name": "ipython",
    "version": 3
   },
   "file_extension": ".py",
   "mimetype": "text/x-python",
   "name": "python",
   "nbconvert_exporter": "python",
   "pygments_lexer": "ipython3",
   "version": "3.8.8"
  }
 },
 "nbformat": 4,
 "nbformat_minor": 5
}
